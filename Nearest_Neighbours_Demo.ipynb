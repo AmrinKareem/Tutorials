{
  "nbformat": 4,
  "nbformat_minor": 0,
  "metadata": {
    "colab": {
      "provenance": [],
      "authorship_tag": "ABX9TyM0IOk7gkkVycSVc8SVNXdv",
      "include_colab_link": true
    },
    "kernelspec": {
      "name": "python3",
      "display_name": "Python 3"
    },
    "language_info": {
      "name": "python"
    }
  },
  "cells": [
    {
      "cell_type": "markdown",
      "metadata": {
        "id": "view-in-github",
        "colab_type": "text"
      },
      "source": [
        "<a href=\"https://colab.research.google.com/github/AmrinKareem/testGit/blob/master/Nearest_Neighbours_Demo.ipynb\" target=\"_parent\"><img src=\"https://colab.research.google.com/assets/colab-badge.svg\" alt=\"Open In Colab\"/></a>"
      ]
    },
    {
      "cell_type": "code",
      "execution_count": null,
      "metadata": {
        "colab": {
          "base_uri": "https://localhost:8080/"
        },
        "id": "_Qk6gbwdQPv3",
        "outputId": "1537bd1c-69ae-4a82-b0bc-7f25f9392a03"
      },
      "outputs": [
        {
          "output_type": "execute_result",
          "data": {
            "text/plain": [
              "array([[0, 2, 1]])"
            ]
          },
          "metadata": {},
          "execution_count": 1
        }
      ],
      "source": [
        "from sklearn.neighbors import NearestNeighbors\n",
        "import numpy as np\n",
        "X = np.array([[-1, -1, 2, 4, 5], [-1, -1, 5, 4, 5], [-1, -1, 1, 4, 4], [1, 1, 4, 2, -1], [2, 1, 3, 4, -1], [3, 2, -1, 1, 3]])\n",
        "nbrs = NearestNeighbors(n_neighbors=3, algorithm='kd_tree').fit(X)\n",
        "distances, indices = nbrs.kneighbors(X[0].reshape(1,-1))\n",
        "indices\n"
      ]
    },
    {
      "cell_type": "code",
      "source": [
        "distances"
      ],
      "metadata": {
        "colab": {
          "base_uri": "https://localhost:8080/"
        },
        "id": "Lqik01w0QbxV",
        "outputId": "c004a157-ff01-4e61-cda7-83fa67959b98"
      },
      "execution_count": null,
      "outputs": [
        {
          "output_type": "execute_result",
          "data": {
            "text/plain": [
              "array([[0.        , 1.41421356, 3.        ]])"
            ]
          },
          "metadata": {},
          "execution_count": 2
        }
      ]
    },
    {
      "cell_type": "code",
      "source": [
        "\n",
        "  print(f'Point {0}: \\n Nearest neigbors: {indices[0,1:]} ')"
      ],
      "metadata": {
        "colab": {
          "base_uri": "https://localhost:8080/"
        },
        "id": "Mcr4d3XBQxBg",
        "outputId": "2827d3be-a30b-4c23-88ff-deb38e4080e6"
      },
      "execution_count": null,
      "outputs": [
        {
          "output_type": "stream",
          "name": "stdout",
          "text": [
            "Point 0: \n",
            " Nearest neigbors: [2 1] \n"
          ]
        }
      ]
    },
    {
      "cell_type": "code",
      "source": [],
      "metadata": {
        "id": "KRtHDQjNR2Ne"
      },
      "execution_count": null,
      "outputs": []
    }
  ]
}